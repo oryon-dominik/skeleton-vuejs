{
 "cells": [
  {
   "cell_type": "code",
   "execution_count": 1,
   "metadata": {},
   "outputs": [],
   "source": [
    "import httpx\n",
    "from rich import print\n",
    "import json\n",
    "from pathlib import Path\n",
    "from api.models import Todo, TodoSnippet"
   ]
  },
  {
   "cell_type": "code",
   "execution_count": 2,
   "metadata": {},
   "outputs": [
    {
     "data": {
      "text/html": [
       "<pre style=\"white-space:pre;overflow-x:auto;line-height:normal;font-family:Menlo,'DejaVu Sans Mono',consolas,'Courier New',monospace\"><span style=\"color: #008080; text-decoration-color: #008080; font-weight: bold\">200</span>\n",
       "<span style=\"font-weight: bold\">{</span><span style=\"color: #008000; text-decoration-color: #008000\">'message'</span>: <span style=\"color: #008000; text-decoration-color: #008000\">'Welcome to a FastAPI-Application. Composed by oryon-dominik with 💖'</span><span style=\"font-weight: bold\">}</span>\n",
       "</pre>\n"
      ],
      "text/plain": [
       "\u001b[1;36m200\u001b[0m\n",
       "\u001b[1m{\u001b[0m\u001b[32m'message'\u001b[0m: \u001b[32m'Welcome to a FastAPI-Application. Composed by oryon-dominik with 💖'\u001b[0m\u001b[1m}\u001b[0m\n"
      ]
     },
     "metadata": {},
     "output_type": "display_data"
    }
   ],
   "source": [
    "r = httpx.get('http://localhost:8000/')\n",
    "print(r.status_code, r.json())"
   ]
  },
  {
   "cell_type": "code",
   "execution_count": 3,
   "metadata": {},
   "outputs": [
    {
     "data": {
      "text/plain": [
       "True"
      ]
     },
     "execution_count": 3,
     "metadata": {},
     "output_type": "execute_result"
    }
   ],
   "source": [
    "DATABASE = Path().parent / \"api\" / \"database\"\n",
    "todos_path = DATABASE / \"todos.json\"\n",
    "todos_path.exists()"
   ]
  },
  {
   "cell_type": "code",
   "execution_count": 4,
   "metadata": {},
   "outputs": [
    {
     "data": {
      "text/html": [
       "<pre style=\"white-space:pre;overflow-x:auto;line-height:normal;font-family:Menlo,'DejaVu Sans Mono',consolas,'Courier New',monospace\"><span style=\"color: #008080; text-decoration-color: #008080; font-weight: bold\">200</span>\n",
       "<span style=\"font-weight: bold\">[</span>\n",
       "    <span style=\"font-weight: bold\">{</span>\n",
       "        <span style=\"color: #008000; text-decoration-color: #008000\">'name'</span>: <span style=\"color: #008000; text-decoration-color: #008000\">'Buy milk'</span>,\n",
       "        <span style=\"color: #008000; text-decoration-color: #008000\">'is_done'</span>: <span style=\"color: #ff0000; text-decoration-color: #ff0000; font-style: italic\">False</span>,\n",
       "        <span style=\"color: #008000; text-decoration-color: #008000\">'description'</span>: <span style=\"color: #008000; text-decoration-color: #008000\">''</span>,\n",
       "        <span style=\"color: #008000; text-decoration-color: #008000\">'uid'</span>: <span style=\"color: #008000; text-decoration-color: #008000\">'32b67e51-77e8-43b0-806e-5aebac5c8b11'</span>,\n",
       "        <span style=\"color: #008000; text-decoration-color: #008000\">'owner_url'</span>: <span style=\"color: #008000; text-decoration-color: #008000\">'localhost:8000/api/users/read/1'</span>,\n",
       "        <span style=\"color: #008000; text-decoration-color: #008000\">'tags'</span>: <span style=\"color: #008000; text-decoration-color: #008000\">'home, milk'</span>,\n",
       "        <span style=\"color: #008000; text-decoration-color: #008000\">'created_at'</span>: <span style=\"color: #008000; text-decoration-color: #008000\">'2022-02-23T12:48:40.217683'</span>,\n",
       "        <span style=\"color: #008000; text-decoration-color: #008000\">'todolist'</span>: <span style=\"color: #800080; text-decoration-color: #800080; font-style: italic\">None</span>\n",
       "    <span style=\"font-weight: bold\">}</span>,\n",
       "    <span style=\"font-weight: bold\">{</span>\n",
       "        <span style=\"color: #008000; text-decoration-color: #008000\">'name'</span>: <span style=\"color: #008000; text-decoration-color: #008000\">'Buy milk'</span>,\n",
       "        <span style=\"color: #008000; text-decoration-color: #008000\">'is_done'</span>: <span style=\"color: #ff0000; text-decoration-color: #ff0000; font-style: italic\">False</span>,\n",
       "        <span style=\"color: #008000; text-decoration-color: #008000\">'description'</span>: <span style=\"color: #008000; text-decoration-color: #008000\">''</span>,\n",
       "        <span style=\"color: #008000; text-decoration-color: #008000\">'uid'</span>: <span style=\"color: #008000; text-decoration-color: #008000\">'b1c73c52-cc9f-4f17-8cf8-e46ed1528842'</span>,\n",
       "        <span style=\"color: #008000; text-decoration-color: #008000\">'owner_url'</span>: <span style=\"color: #008000; text-decoration-color: #008000\">'localhost:8000/api/users/read/1'</span>,\n",
       "        <span style=\"color: #008000; text-decoration-color: #008000\">'tags'</span>: <span style=\"color: #008000; text-decoration-color: #008000\">''</span>,\n",
       "        <span style=\"color: #008000; text-decoration-color: #008000\">'created_at'</span>: <span style=\"color: #008000; text-decoration-color: #008000\">'2022-02-23T12:33:44.746932'</span>,\n",
       "        <span style=\"color: #008000; text-decoration-color: #008000\">'todolist'</span>: <span style=\"color: #800080; text-decoration-color: #800080; font-style: italic\">None</span>\n",
       "    <span style=\"font-weight: bold\">}</span>,\n",
       "    <span style=\"font-weight: bold\">{</span>\n",
       "        <span style=\"color: #008000; text-decoration-color: #008000\">'name'</span>: <span style=\"color: #008000; text-decoration-color: #008000\">'Buy milk'</span>,\n",
       "        <span style=\"color: #008000; text-decoration-color: #008000\">'is_done'</span>: <span style=\"color: #ff0000; text-decoration-color: #ff0000; font-style: italic\">False</span>,\n",
       "        <span style=\"color: #008000; text-decoration-color: #008000\">'description'</span>: <span style=\"color: #008000; text-decoration-color: #008000\">''</span>,\n",
       "        <span style=\"color: #008000; text-decoration-color: #008000\">'uid'</span>: <span style=\"color: #008000; text-decoration-color: #008000\">'c4c03e30-6e51-4aa9-b2d8-fcefe6482d45'</span>,\n",
       "        <span style=\"color: #008000; text-decoration-color: #008000\">'owner_url'</span>: <span style=\"color: #008000; text-decoration-color: #008000\">'localhost:8000/api/users/read/1'</span>,\n",
       "        <span style=\"color: #008000; text-decoration-color: #008000\">'tags'</span>: <span style=\"color: #008000; text-decoration-color: #008000\">''</span>,\n",
       "        <span style=\"color: #008000; text-decoration-color: #008000\">'created_at'</span>: <span style=\"color: #008000; text-decoration-color: #008000\">'2022-02-23T12:46:57.286621'</span>,\n",
       "        <span style=\"color: #008000; text-decoration-color: #008000\">'todolist'</span>: <span style=\"color: #800080; text-decoration-color: #800080; font-style: italic\">None</span>\n",
       "    <span style=\"font-weight: bold\">}</span>,\n",
       "    <span style=\"font-weight: bold\">{</span>\n",
       "        <span style=\"color: #008000; text-decoration-color: #008000\">'name'</span>: <span style=\"color: #008000; text-decoration-color: #008000\">'Buy milk'</span>,\n",
       "        <span style=\"color: #008000; text-decoration-color: #008000\">'is_done'</span>: <span style=\"color: #ff0000; text-decoration-color: #ff0000; font-style: italic\">False</span>,\n",
       "        <span style=\"color: #008000; text-decoration-color: #008000\">'description'</span>: <span style=\"color: #008000; text-decoration-color: #008000\">''</span>,\n",
       "        <span style=\"color: #008000; text-decoration-color: #008000\">'uid'</span>: <span style=\"color: #008000; text-decoration-color: #008000\">'e8f5e4b8-6d37-4902-ad3b-d62d0142e936'</span>,\n",
       "        <span style=\"color: #008000; text-decoration-color: #008000\">'owner_url'</span>: <span style=\"color: #008000; text-decoration-color: #008000\">'localhost:8000/api/users/read/1'</span>,\n",
       "        <span style=\"color: #008000; text-decoration-color: #008000\">'tags'</span>: <span style=\"color: #008000; text-decoration-color: #008000\">''</span>,\n",
       "        <span style=\"color: #008000; text-decoration-color: #008000\">'created_at'</span>: <span style=\"color: #008000; text-decoration-color: #008000\">'2022-02-23T12:46:19.829019'</span>,\n",
       "        <span style=\"color: #008000; text-decoration-color: #008000\">'todolist'</span>: <span style=\"color: #800080; text-decoration-color: #800080; font-style: italic\">None</span>\n",
       "    <span style=\"font-weight: bold\">}</span>,\n",
       "    <span style=\"font-weight: bold\">{</span>\n",
       "        <span style=\"color: #008000; text-decoration-color: #008000\">'name'</span>: <span style=\"color: #008000; text-decoration-color: #008000\">'Boyo milk'</span>,\n",
       "        <span style=\"color: #008000; text-decoration-color: #008000\">'is_done'</span>: <span style=\"color: #ff0000; text-decoration-color: #ff0000; font-style: italic\">False</span>,\n",
       "        <span style=\"color: #008000; text-decoration-color: #008000\">'description'</span>: <span style=\"color: #008000; text-decoration-color: #008000\">''</span>,\n",
       "        <span style=\"color: #008000; text-decoration-color: #008000\">'uid'</span>: <span style=\"color: #008000; text-decoration-color: #008000\">'fb232a00-8cb8-43b8-a824-0454c71ed1c8'</span>,\n",
       "        <span style=\"color: #008000; text-decoration-color: #008000\">'owner_url'</span>: <span style=\"color: #008000; text-decoration-color: #008000\">'localhost:8000/api/users/read/1'</span>,\n",
       "        <span style=\"color: #008000; text-decoration-color: #008000\">'tags'</span>: <span style=\"color: #008000; text-decoration-color: #008000\">'home, milk'</span>,\n",
       "        <span style=\"color: #008000; text-decoration-color: #008000\">'created_at'</span>: <span style=\"color: #008000; text-decoration-color: #008000\">'2022-02-23T12:53:32.828383'</span>,\n",
       "        <span style=\"color: #008000; text-decoration-color: #008000\">'todolist'</span>: <span style=\"color: #800080; text-decoration-color: #800080; font-style: italic\">None</span>\n",
       "    <span style=\"font-weight: bold\">}</span>\n",
       "<span style=\"font-weight: bold\">]</span>\n",
       "</pre>\n"
      ],
      "text/plain": [
       "\u001b[1;36m200\u001b[0m\n",
       "\u001b[1m[\u001b[0m\n",
       "    \u001b[1m{\u001b[0m\n",
       "        \u001b[32m'name'\u001b[0m: \u001b[32m'Buy milk'\u001b[0m,\n",
       "        \u001b[32m'is_done'\u001b[0m: \u001b[3;91mFalse\u001b[0m,\n",
       "        \u001b[32m'description'\u001b[0m: \u001b[32m''\u001b[0m,\n",
       "        \u001b[32m'uid'\u001b[0m: \u001b[32m'32b67e51-77e8-43b0-806e-5aebac5c8b11'\u001b[0m,\n",
       "        \u001b[32m'owner_url'\u001b[0m: \u001b[32m'localhost:8000/api/users/read/1'\u001b[0m,\n",
       "        \u001b[32m'tags'\u001b[0m: \u001b[32m'home, milk'\u001b[0m,\n",
       "        \u001b[32m'created_at'\u001b[0m: \u001b[32m'2022-02-23T12:48:40.217683'\u001b[0m,\n",
       "        \u001b[32m'todolist'\u001b[0m: \u001b[3;35mNone\u001b[0m\n",
       "    \u001b[1m}\u001b[0m,\n",
       "    \u001b[1m{\u001b[0m\n",
       "        \u001b[32m'name'\u001b[0m: \u001b[32m'Buy milk'\u001b[0m,\n",
       "        \u001b[32m'is_done'\u001b[0m: \u001b[3;91mFalse\u001b[0m,\n",
       "        \u001b[32m'description'\u001b[0m: \u001b[32m''\u001b[0m,\n",
       "        \u001b[32m'uid'\u001b[0m: \u001b[32m'b1c73c52-cc9f-4f17-8cf8-e46ed1528842'\u001b[0m,\n",
       "        \u001b[32m'owner_url'\u001b[0m: \u001b[32m'localhost:8000/api/users/read/1'\u001b[0m,\n",
       "        \u001b[32m'tags'\u001b[0m: \u001b[32m''\u001b[0m,\n",
       "        \u001b[32m'created_at'\u001b[0m: \u001b[32m'2022-02-23T12:33:44.746932'\u001b[0m,\n",
       "        \u001b[32m'todolist'\u001b[0m: \u001b[3;35mNone\u001b[0m\n",
       "    \u001b[1m}\u001b[0m,\n",
       "    \u001b[1m{\u001b[0m\n",
       "        \u001b[32m'name'\u001b[0m: \u001b[32m'Buy milk'\u001b[0m,\n",
       "        \u001b[32m'is_done'\u001b[0m: \u001b[3;91mFalse\u001b[0m,\n",
       "        \u001b[32m'description'\u001b[0m: \u001b[32m''\u001b[0m,\n",
       "        \u001b[32m'uid'\u001b[0m: \u001b[32m'c4c03e30-6e51-4aa9-b2d8-fcefe6482d45'\u001b[0m,\n",
       "        \u001b[32m'owner_url'\u001b[0m: \u001b[32m'localhost:8000/api/users/read/1'\u001b[0m,\n",
       "        \u001b[32m'tags'\u001b[0m: \u001b[32m''\u001b[0m,\n",
       "        \u001b[32m'created_at'\u001b[0m: \u001b[32m'2022-02-23T12:46:57.286621'\u001b[0m,\n",
       "        \u001b[32m'todolist'\u001b[0m: \u001b[3;35mNone\u001b[0m\n",
       "    \u001b[1m}\u001b[0m,\n",
       "    \u001b[1m{\u001b[0m\n",
       "        \u001b[32m'name'\u001b[0m: \u001b[32m'Buy milk'\u001b[0m,\n",
       "        \u001b[32m'is_done'\u001b[0m: \u001b[3;91mFalse\u001b[0m,\n",
       "        \u001b[32m'description'\u001b[0m: \u001b[32m''\u001b[0m,\n",
       "        \u001b[32m'uid'\u001b[0m: \u001b[32m'e8f5e4b8-6d37-4902-ad3b-d62d0142e936'\u001b[0m,\n",
       "        \u001b[32m'owner_url'\u001b[0m: \u001b[32m'localhost:8000/api/users/read/1'\u001b[0m,\n",
       "        \u001b[32m'tags'\u001b[0m: \u001b[32m''\u001b[0m,\n",
       "        \u001b[32m'created_at'\u001b[0m: \u001b[32m'2022-02-23T12:46:19.829019'\u001b[0m,\n",
       "        \u001b[32m'todolist'\u001b[0m: \u001b[3;35mNone\u001b[0m\n",
       "    \u001b[1m}\u001b[0m,\n",
       "    \u001b[1m{\u001b[0m\n",
       "        \u001b[32m'name'\u001b[0m: \u001b[32m'Boyo milk'\u001b[0m,\n",
       "        \u001b[32m'is_done'\u001b[0m: \u001b[3;91mFalse\u001b[0m,\n",
       "        \u001b[32m'description'\u001b[0m: \u001b[32m''\u001b[0m,\n",
       "        \u001b[32m'uid'\u001b[0m: \u001b[32m'fb232a00-8cb8-43b8-a824-0454c71ed1c8'\u001b[0m,\n",
       "        \u001b[32m'owner_url'\u001b[0m: \u001b[32m'localhost:8000/api/users/read/1'\u001b[0m,\n",
       "        \u001b[32m'tags'\u001b[0m: \u001b[32m'home, milk'\u001b[0m,\n",
       "        \u001b[32m'created_at'\u001b[0m: \u001b[32m'2022-02-23T12:53:32.828383'\u001b[0m,\n",
       "        \u001b[32m'todolist'\u001b[0m: \u001b[3;35mNone\u001b[0m\n",
       "    \u001b[1m}\u001b[0m\n",
       "\u001b[1m]\u001b[0m\n"
      ]
     },
     "metadata": {},
     "output_type": "display_data"
    }
   ],
   "source": [
    "r = httpx.get('http://localhost:8000/api/todos/items')\n",
    "print(r.status_code, r.json())\n",
    "tags_from_api = r.json()"
   ]
  },
  {
   "cell_type": "code",
   "execution_count": 5,
   "metadata": {},
   "outputs": [
    {
     "data": {
      "text/html": [
       "<pre style=\"white-space:pre;overflow-x:auto;line-height:normal;font-family:Menlo,'DejaVu Sans Mono',consolas,'Courier New',monospace\"><span style=\"color: #008080; text-decoration-color: #008080; font-weight: bold\">201</span>\n",
       "<span style=\"font-weight: bold\">{</span><span style=\"color: #008000; text-decoration-color: #008000\">'name'</span>: <span style=\"color: #008000; text-decoration-color: #008000\">'Buppa'</span>, <span style=\"color: #008000; text-decoration-color: #008000\">'is_done'</span>: <span style=\"color: #ff0000; text-decoration-color: #ff0000; font-style: italic\">False</span>, <span style=\"color: #008000; text-decoration-color: #008000\">'description'</span>: <span style=\"color: #008000; text-decoration-color: #008000\">'La, le lu'</span>, <span style=\"color: #008000; text-decoration-color: #008000\">'tags'</span>: <span style=\"font-weight: bold\">[</span><span style=\"color: #008000; text-decoration-color: #008000\">'home'</span>, <span style=\"color: #008000; text-decoration-color: #008000\">'milk'</span><span style=\"font-weight: bold\">]}</span>\n",
       "</pre>\n"
      ],
      "text/plain": [
       "\u001b[1;36m201\u001b[0m\n",
       "\u001b[1m{\u001b[0m\u001b[32m'name'\u001b[0m: \u001b[32m'Buppa'\u001b[0m, \u001b[32m'is_done'\u001b[0m: \u001b[3;91mFalse\u001b[0m, \u001b[32m'description'\u001b[0m: \u001b[32m'La, le lu'\u001b[0m, \u001b[32m'tags'\u001b[0m: \u001b[1m[\u001b[0m\u001b[32m'home'\u001b[0m, \u001b[32m'milk'\u001b[0m\u001b[1m]\u001b[0m\u001b[1m}\u001b[0m\n"
      ]
     },
     "metadata": {},
     "output_type": "display_data"
    }
   ],
   "source": [
    "todo = {\n",
    "    \"name\": \"Buppa\",\n",
    "    \"description\": \"La, le lu\",\n",
    "    \"is_done\": False,\n",
    "    \"tags\": [\"home\", \"milk\"],\n",
    "}\n",
    "r = httpx.post('http://localhost:8000/api/todos/items', json=todo)\n",
    "print(r.status_code, r.json())"
   ]
  },
  {
   "cell_type": "code",
   "execution_count": 6,
   "metadata": {},
   "outputs": [],
   "source": [
    "todos = [\n",
    "    {\n",
    "        'created_at': '2022-02-23T11:38:08.307772',\n",
    "        'description': '',\n",
    "        'is_done': False,\n",
    "        'name': 'Buy milk',\n",
    "        'owner_url': 'localhost:8000/api/users/read/1',\n",
    "        'tags': 'milk, family',\n",
    "        'todolist': None,\n",
    "        'uid': '2a4b4628-8352-4f38-9beb-1921858a8176'\n",
    "    }\n",
    "]"
   ]
  },
  {
   "cell_type": "code",
   "execution_count": 7,
   "metadata": {},
   "outputs": [
    {
     "data": {
      "text/html": [
       "<pre style=\"white-space:pre;overflow-x:auto;line-height:normal;font-family:Menlo,'DejaVu Sans Mono',consolas,'Courier New',monospace\"><span style=\"color: #808000; text-decoration-color: #808000\">name</span>=<span style=\"color: #008000; text-decoration-color: #008000\">'Buy milk'</span> <span style=\"color: #808000; text-decoration-color: #808000\">is_done</span>=<span style=\"color: #ff0000; text-decoration-color: #ff0000; font-style: italic\">False</span> <span style=\"color: #808000; text-decoration-color: #808000\">description</span>=<span style=\"color: #008000; text-decoration-color: #008000\">''</span> <span style=\"color: #808000; text-decoration-color: #808000\">uid</span>=<span style=\"color: #008000; text-decoration-color: #008000\">'2a4b4628-8352-4f38-9beb-1921858a8176'</span> \n",
       "<span style=\"color: #808000; text-decoration-color: #808000\">owner_url</span>=<span style=\"color: #008000; text-decoration-color: #008000\">'localhost:8000/api/users/read/1'</span> <span style=\"color: #808000; text-decoration-color: #808000\">tags</span>=<span style=\"color: #008000; text-decoration-color: #008000\">'family, milk'</span> \n",
       "<span style=\"color: #808000; text-decoration-color: #808000\">created_at</span>=<span style=\"color: #800080; text-decoration-color: #800080; font-weight: bold\">datetime</span><span style=\"color: #800080; text-decoration-color: #800080; font-weight: bold\">.datetime</span><span style=\"font-weight: bold\">(</span><span style=\"color: #008080; text-decoration-color: #008080; font-weight: bold\">2022</span>, <span style=\"color: #008080; text-decoration-color: #008080; font-weight: bold\">2</span>, <span style=\"color: #008080; text-decoration-color: #008080; font-weight: bold\">23</span>, <span style=\"color: #008080; text-decoration-color: #008080; font-weight: bold\">11</span>, <span style=\"color: #008080; text-decoration-color: #008080; font-weight: bold\">38</span>, <span style=\"color: #008080; text-decoration-color: #008080; font-weight: bold\">8</span>, <span style=\"color: #008080; text-decoration-color: #008080; font-weight: bold\">307772</span><span style=\"font-weight: bold\">)</span> <span style=\"color: #808000; text-decoration-color: #808000\">todolist</span>=<span style=\"color: #800080; text-decoration-color: #800080; font-style: italic\">None</span>\n",
       "</pre>\n"
      ],
      "text/plain": [
       "\u001b[33mname\u001b[0m=\u001b[32m'Buy milk'\u001b[0m \u001b[33mis_done\u001b[0m=\u001b[3;91mFalse\u001b[0m \u001b[33mdescription\u001b[0m=\u001b[32m''\u001b[0m \u001b[33muid\u001b[0m=\u001b[32m'2a4b4628-8352-4f38-9beb-1921858a8176'\u001b[0m \n",
       "\u001b[33mowner_url\u001b[0m=\u001b[32m'localhost:8000/api/users/read/1'\u001b[0m \u001b[33mtags\u001b[0m=\u001b[32m'family, milk'\u001b[0m \n",
       "\u001b[33mcreated_at\u001b[0m=\u001b[1;35mdatetime\u001b[0m\u001b[1;35m.datetime\u001b[0m\u001b[1m(\u001b[0m\u001b[1;36m2022\u001b[0m, \u001b[1;36m2\u001b[0m, \u001b[1;36m23\u001b[0m, \u001b[1;36m11\u001b[0m, \u001b[1;36m38\u001b[0m, \u001b[1;36m8\u001b[0m, \u001b[1;36m307772\u001b[0m\u001b[1m)\u001b[0m \u001b[33mtodolist\u001b[0m=\u001b[3;35mNone\u001b[0m\n"
      ]
     },
     "metadata": {},
     "output_type": "display_data"
    },
    {
     "data": {
      "text/html": [
       "<pre style=\"white-space:pre;overflow-x:auto;line-height:normal;font-family:Menlo,'DejaVu Sans Mono',consolas,'Courier New',monospace\"><span style=\"color: #808000; text-decoration-color: #808000\">name</span>=<span style=\"color: #008000; text-decoration-color: #008000\">'Buy milk'</span> <span style=\"color: #808000; text-decoration-color: #808000\">is_done</span>=<span style=\"color: #ff0000; text-decoration-color: #ff0000; font-style: italic\">False</span> <span style=\"color: #808000; text-decoration-color: #808000\">description</span>=<span style=\"color: #008000; text-decoration-color: #008000\">''</span> <span style=\"color: #808000; text-decoration-color: #808000\">uid</span>=<span style=\"color: #008000; text-decoration-color: #008000\">'32b67e51-77e8-43b0-806e-5aebac5c8b11'</span> \n",
       "<span style=\"color: #808000; text-decoration-color: #808000\">owner_url</span>=<span style=\"color: #008000; text-decoration-color: #008000\">'localhost:8000/api/users/read/1'</span> <span style=\"color: #808000; text-decoration-color: #808000\">tags</span>=<span style=\"color: #008000; text-decoration-color: #008000\">'home, milk'</span> \n",
       "<span style=\"color: #808000; text-decoration-color: #808000\">created_at</span>=<span style=\"color: #800080; text-decoration-color: #800080; font-weight: bold\">datetime</span><span style=\"color: #800080; text-decoration-color: #800080; font-weight: bold\">.datetime</span><span style=\"font-weight: bold\">(</span><span style=\"color: #008080; text-decoration-color: #008080; font-weight: bold\">2022</span>, <span style=\"color: #008080; text-decoration-color: #008080; font-weight: bold\">2</span>, <span style=\"color: #008080; text-decoration-color: #008080; font-weight: bold\">23</span>, <span style=\"color: #008080; text-decoration-color: #008080; font-weight: bold\">12</span>, <span style=\"color: #008080; text-decoration-color: #008080; font-weight: bold\">48</span>, <span style=\"color: #008080; text-decoration-color: #008080; font-weight: bold\">40</span>, <span style=\"color: #008080; text-decoration-color: #008080; font-weight: bold\">217683</span><span style=\"font-weight: bold\">)</span> <span style=\"color: #808000; text-decoration-color: #808000\">todolist</span>=<span style=\"color: #800080; text-decoration-color: #800080; font-style: italic\">None</span>\n",
       "</pre>\n"
      ],
      "text/plain": [
       "\u001b[33mname\u001b[0m=\u001b[32m'Buy milk'\u001b[0m \u001b[33mis_done\u001b[0m=\u001b[3;91mFalse\u001b[0m \u001b[33mdescription\u001b[0m=\u001b[32m''\u001b[0m \u001b[33muid\u001b[0m=\u001b[32m'32b67e51-77e8-43b0-806e-5aebac5c8b11'\u001b[0m \n",
       "\u001b[33mowner_url\u001b[0m=\u001b[32m'localhost:8000/api/users/read/1'\u001b[0m \u001b[33mtags\u001b[0m=\u001b[32m'home, milk'\u001b[0m \n",
       "\u001b[33mcreated_at\u001b[0m=\u001b[1;35mdatetime\u001b[0m\u001b[1;35m.datetime\u001b[0m\u001b[1m(\u001b[0m\u001b[1;36m2022\u001b[0m, \u001b[1;36m2\u001b[0m, \u001b[1;36m23\u001b[0m, \u001b[1;36m12\u001b[0m, \u001b[1;36m48\u001b[0m, \u001b[1;36m40\u001b[0m, \u001b[1;36m217683\u001b[0m\u001b[1m)\u001b[0m \u001b[33mtodolist\u001b[0m=\u001b[3;35mNone\u001b[0m\n"
      ]
     },
     "metadata": {},
     "output_type": "display_data"
    },
    {
     "data": {
      "text/html": [
       "<pre style=\"white-space:pre;overflow-x:auto;line-height:normal;font-family:Menlo,'DejaVu Sans Mono',consolas,'Courier New',monospace\"><span style=\"color: #808000; text-decoration-color: #808000\">name</span>=<span style=\"color: #008000; text-decoration-color: #008000\">'Buy milk'</span> <span style=\"color: #808000; text-decoration-color: #808000\">is_done</span>=<span style=\"color: #ff0000; text-decoration-color: #ff0000; font-style: italic\">False</span> <span style=\"color: #808000; text-decoration-color: #808000\">description</span>=<span style=\"color: #008000; text-decoration-color: #008000\">''</span> <span style=\"color: #808000; text-decoration-color: #808000\">tags</span>=<span style=\"font-weight: bold\">[</span><span style=\"color: #008000; text-decoration-color: #008000\">'family'</span>, <span style=\"color: #008000; text-decoration-color: #008000\">'milk'</span><span style=\"font-weight: bold\">]</span>\n",
       "</pre>\n"
      ],
      "text/plain": [
       "\u001b[33mname\u001b[0m=\u001b[32m'Buy milk'\u001b[0m \u001b[33mis_done\u001b[0m=\u001b[3;91mFalse\u001b[0m \u001b[33mdescription\u001b[0m=\u001b[32m''\u001b[0m \u001b[33mtags\u001b[0m=\u001b[1m[\u001b[0m\u001b[32m'family'\u001b[0m, \u001b[32m'milk'\u001b[0m\u001b[1m]\u001b[0m\n"
      ]
     },
     "metadata": {},
     "output_type": "display_data"
    },
    {
     "data": {
      "text/html": [
       "<pre style=\"white-space:pre;overflow-x:auto;line-height:normal;font-family:Menlo,'DejaVu Sans Mono',consolas,'Courier New',monospace\"><span style=\"color: #808000; text-decoration-color: #808000\">name</span>=<span style=\"color: #008000; text-decoration-color: #008000\">'Buy milk'</span> <span style=\"color: #808000; text-decoration-color: #808000\">is_done</span>=<span style=\"color: #ff0000; text-decoration-color: #ff0000; font-style: italic\">False</span> <span style=\"color: #808000; text-decoration-color: #808000\">description</span>=<span style=\"color: #008000; text-decoration-color: #008000\">''</span> <span style=\"color: #808000; text-decoration-color: #808000\">tags</span>=<span style=\"font-weight: bold\">[</span><span style=\"color: #008000; text-decoration-color: #008000\">'home'</span>, <span style=\"color: #008000; text-decoration-color: #008000\">'milk'</span><span style=\"font-weight: bold\">]</span>\n",
       "</pre>\n"
      ],
      "text/plain": [
       "\u001b[33mname\u001b[0m=\u001b[32m'Buy milk'\u001b[0m \u001b[33mis_done\u001b[0m=\u001b[3;91mFalse\u001b[0m \u001b[33mdescription\u001b[0m=\u001b[32m''\u001b[0m \u001b[33mtags\u001b[0m=\u001b[1m[\u001b[0m\u001b[32m'home'\u001b[0m, \u001b[32m'milk'\u001b[0m\u001b[1m]\u001b[0m\n"
      ]
     },
     "metadata": {},
     "output_type": "display_data"
    }
   ],
   "source": [
    "print(Todo(**todos[0]))\n",
    "print(Todo(**tags_from_api[0]))\n",
    "print(TodoSnippet(**todos[0]))\n",
    "print(TodoSnippet(**tags_from_api[0]))"
   ]
  },
  {
   "cell_type": "code",
   "execution_count": 8,
   "metadata": {},
   "outputs": [
    {
     "data": {
      "text/html": [
       "<pre style=\"white-space:pre;overflow-x:auto;line-height:normal;font-family:Menlo,'DejaVu Sans Mono',consolas,'Courier New',monospace\"><span style=\"color: #008080; text-decoration-color: #008080; font-weight: bold\">200</span>\n",
       "<span style=\"font-weight: bold\">{</span>\n",
       "    <span style=\"color: #008000; text-decoration-color: #008000\">'name'</span>: <span style=\"color: #008000; text-decoration-color: #008000\">'Buy milk'</span>,\n",
       "    <span style=\"color: #008000; text-decoration-color: #008000\">'is_done'</span>: <span style=\"color: #ff0000; text-decoration-color: #ff0000; font-style: italic\">False</span>,\n",
       "    <span style=\"color: #008000; text-decoration-color: #008000\">'description'</span>: <span style=\"color: #008000; text-decoration-color: #008000\">''</span>,\n",
       "    <span style=\"color: #008000; text-decoration-color: #008000\">'uid'</span>: <span style=\"color: #008000; text-decoration-color: #008000\">'e8f5e4b8-6d37-4902-ad3b-d62d0142e936'</span>,\n",
       "    <span style=\"color: #008000; text-decoration-color: #008000\">'owner_url'</span>: <span style=\"color: #008000; text-decoration-color: #008000\">'localhost:8000/api/users/read/1'</span>,\n",
       "    <span style=\"color: #008000; text-decoration-color: #008000\">'tags'</span>: <span style=\"color: #008000; text-decoration-color: #008000\">''</span>,\n",
       "    <span style=\"color: #008000; text-decoration-color: #008000\">'created_at'</span>: <span style=\"color: #008000; text-decoration-color: #008000\">'2022-02-23T12:46:19.829019'</span>,\n",
       "    <span style=\"color: #008000; text-decoration-color: #008000\">'todolist'</span>: <span style=\"color: #800080; text-decoration-color: #800080; font-style: italic\">None</span>\n",
       "<span style=\"font-weight: bold\">}</span>\n",
       "</pre>\n"
      ],
      "text/plain": [
       "\u001b[1;36m200\u001b[0m\n",
       "\u001b[1m{\u001b[0m\n",
       "    \u001b[32m'name'\u001b[0m: \u001b[32m'Buy milk'\u001b[0m,\n",
       "    \u001b[32m'is_done'\u001b[0m: \u001b[3;91mFalse\u001b[0m,\n",
       "    \u001b[32m'description'\u001b[0m: \u001b[32m''\u001b[0m,\n",
       "    \u001b[32m'uid'\u001b[0m: \u001b[32m'e8f5e4b8-6d37-4902-ad3b-d62d0142e936'\u001b[0m,\n",
       "    \u001b[32m'owner_url'\u001b[0m: \u001b[32m'localhost:8000/api/users/read/1'\u001b[0m,\n",
       "    \u001b[32m'tags'\u001b[0m: \u001b[32m''\u001b[0m,\n",
       "    \u001b[32m'created_at'\u001b[0m: \u001b[32m'2022-02-23T12:46:19.829019'\u001b[0m,\n",
       "    \u001b[32m'todolist'\u001b[0m: \u001b[3;35mNone\u001b[0m\n",
       "\u001b[1m}\u001b[0m\n"
      ]
     },
     "metadata": {},
     "output_type": "display_data"
    }
   ],
   "source": [
    "uid = \"e8f5e4b8-6d37-4902-ad3b-d62d0142e936\"\n",
    "r = httpx.get(f'http://localhost:8000/api/todos/items/{uid}')\n",
    "print(r.status_code, r.json())"
   ]
  },
  {
   "cell_type": "code",
   "execution_count": 14,
   "metadata": {},
   "outputs": [
    {
     "data": {
      "text/html": [
       "<pre style=\"white-space:pre;overflow-x:auto;line-height:normal;font-family:Menlo,'DejaVu Sans Mono',consolas,'Courier New',monospace\"><span style=\"color: #008080; text-decoration-color: #008080; font-weight: bold\">200</span>\n",
       "<span style=\"font-weight: bold\">{</span><span style=\"color: #008000; text-decoration-color: #008000\">'name'</span>: <span style=\"color: #008000; text-decoration-color: #008000\">'Another milk'</span>, <span style=\"color: #008000; text-decoration-color: #008000\">'is_done'</span>: <span style=\"color: #ff0000; text-decoration-color: #ff0000; font-style: italic\">False</span>, <span style=\"color: #008000; text-decoration-color: #008000\">'description'</span>: <span style=\"color: #008000; text-decoration-color: #008000\">''</span>, <span style=\"color: #008000; text-decoration-color: #008000\">'tags'</span>: <span style=\"font-weight: bold\">[]}</span>\n",
       "</pre>\n"
      ],
      "text/plain": [
       "\u001b[1;36m200\u001b[0m\n",
       "\u001b[1m{\u001b[0m\u001b[32m'name'\u001b[0m: \u001b[32m'Another milk'\u001b[0m, \u001b[32m'is_done'\u001b[0m: \u001b[3;91mFalse\u001b[0m, \u001b[32m'description'\u001b[0m: \u001b[32m''\u001b[0m, \u001b[32m'tags'\u001b[0m: \u001b[1m[\u001b[0m\u001b[1m]\u001b[0m\u001b[1m}\u001b[0m\n"
      ]
     },
     "metadata": {},
     "output_type": "display_data"
    }
   ],
   "source": [
    "uid = \"e8f5e4b8-6d37-4902-ad3b-d62d0142e936\"\n",
    "update = {\n",
    "    \"name\": \"Another milk\",\n",
    "}\n",
    "\n",
    "r = httpx.put(f'http://localhost:8000/api/todos/items/{uid}', json=update)\n",
    "print(r.status_code, r.json())"
   ]
  },
  {
   "cell_type": "code",
   "execution_count": 18,
   "metadata": {},
   "outputs": [
    {
     "data": {
      "text/html": [
       "<pre style=\"white-space:pre;overflow-x:auto;line-height:normal;font-family:Menlo,'DejaVu Sans Mono',consolas,'Courier New',monospace\"><span style=\"color: #008080; text-decoration-color: #008080; font-weight: bold\">404</span>\n",
       "<span style=\"font-weight: bold\">{</span><span style=\"color: #008000; text-decoration-color: #008000\">'deleted'</span>: <span style=\"color: #ff0000; text-decoration-color: #ff0000; font-style: italic\">False</span><span style=\"font-weight: bold\">}</span>\n",
       "</pre>\n"
      ],
      "text/plain": [
       "\u001b[1;36m404\u001b[0m\n",
       "\u001b[1m{\u001b[0m\u001b[32m'deleted'\u001b[0m: \u001b[3;91mFalse\u001b[0m\u001b[1m}\u001b[0m\n"
      ]
     },
     "metadata": {},
     "output_type": "display_data"
    }
   ],
   "source": [
    "uid = \"fb232a00-8cb8-43b8-a824-0454c71ed1\"\n",
    "r = httpx.delete(f'http://localhost:8000/api/todos/items/{uid}')\n",
    "print(r.status_code, r.json())"
   ]
  }
 ],
 "metadata": {
  "interpreter": {
   "hash": "5efa389b1a59defe5c8c59e88abe60e40fb61ed13b89ef3036a90e29f4045c91"
  },
  "kernelspec": {
   "display_name": "Python 3.10.1 ('vuejs-skeleton-m4JnkLso-py3.10')",
   "language": "python",
   "name": "python3"
  },
  "language_info": {
   "codemirror_mode": {
    "name": "ipython",
    "version": 3
   },
   "file_extension": ".py",
   "mimetype": "text/x-python",
   "name": "python",
   "nbconvert_exporter": "python",
   "pygments_lexer": "ipython3",
   "version": "3.10.1"
  },
  "orig_nbformat": 4
 },
 "nbformat": 4,
 "nbformat_minor": 2
}
